{
 "cells": [
  {
   "attachments": {},
   "cell_type": "markdown",
   "id": "a4c07172-ecbb-4659-b372-df132c7ad164",
   "metadata": {},
   "source": [
    "# Introduction"
   ]
  },
  {
   "attachments": {},
   "cell_type": "markdown",
   "id": "a1dc5e67-83c9-4819-a57a-c7057b683e37",
   "metadata": {
    "jp-MarkdownHeadingCollapsed": true,
    "tags": []
   },
   "source": [
    "This is a book that showcases the work I'm doing on my PhD at University of Exeter"
   ]
  },
  {
   "attachments": {},
   "cell_type": "markdown",
   "id": "137933ed",
   "metadata": {},
   "source": [
    "## Chapter 1: Diametrics package and webapp\n",
    "### Overview of research:\n",
    "\n",
    "### Skills demonstrated:\n",
    "* Data manipulation with **Pandas** and **NumPy**\n",
    "* Dashboard development with **Dash**\n",
    "* Interactive visualisations with **Plotly**\n",
    "\n",
    "## Chapter 2: Interpolation for 15 minute CGM data\n",
    "### Overview of research:\n",
    "\n",
    "### Skills demonstrated:\n",
    "* Time-series manipulation using **Pandas**\n",
    "* Interpolation techniques including:\n",
    "    * Linear\n",
    "    * Polynomial cubic hermite (PCHIP)\n",
    "    * Gaussian process models\n",
    "* Statistical analysis using **SciPy**\n",
    "* Visualisations with **Matplotlib**\n",
    "\n",
    "## Chapter 3: Feature extraction using tsfresh and Diametrics to predict hypoglycemia during exercise\n",
    "### Overview of research:\n",
    "\n",
    "### Skills demonstrated:\n",
    "* Time-series feature extraction using **tsfresh**\n",
    "* Forward feature selection\n",
    "* Machine learning classification \n",
    "    * Logistic Regression\n",
    "    * XGBoost\n",
    "* Bayesian hyperparameter tuning using **Hyperopt** and **Optuna**\n",
    "* Statistical methods e.g. subgroup analysis, k-fold cross-validation\n",
    "* Shapley additive values for feature importance using **Shap** library\n",
    "\n",
    "\n",
    "## Chapter 4: Time-series analysis of wearable sensor data\n",
    "### Overview of research:\n",
    "\n",
    "### Skills demonstrated:\n",
    "* Time-series forecasting\n",
    "* Deep learning with CNNs and transformers"
   ]
  },
  {
   "attachments": {},
   "cell_type": "markdown",
   "id": "e2d7cf29-1010-42a8-8942-2d5afef1f82a",
   "metadata": {
    "tags": []
   },
   "source": [
    "## The team"
   ]
  },
  {
   "attachments": {},
   "cell_type": "markdown",
   "id": "10c6a8bd-7d58-435d-8706-d127833f1d7b",
   "metadata": {
    "tags": []
   },
   "source": [
    "[Cat Russon](https://medicine.exeter.ac.uk/people/profile/index.php?web_id=Cat_Russon)\n",
    "\n",
    "[Mike Allen](https://medicine.exeter.ac.uk/people/profile/index.php?web_id=Michael_Allen)\n",
    "\n",
    "[Rob Andrews](http://medicine.exeter.ac.uk/people/profile/index.php?web_id=Rob_Andrews)\n",
    "\n",
    "[Richard Pulsford](https://sshs.exeter.ac.uk/staff/profile/index.php?web_id=Richard_Pulsford)\n",
    "\n",
    "[Neil Vaughan](https://medicine.exeter.ac.uk/people/profile/index.php?web_id=Neil_Vaughan)"
   ]
  },
  {
   "cell_type": "code",
   "execution_count": null,
   "id": "e2cd6ee5-f279-4ed4-bcb6-7209d60330c7",
   "metadata": {},
   "outputs": [],
   "source": []
  }
 ],
 "metadata": {
  "kernelspec": {
   "display_name": "Python 3 (ipykernel)",
   "language": "python",
   "name": "python3"
  },
  "language_info": {
   "codemirror_mode": {
    "name": "ipython",
    "version": 3
   },
   "file_extension": ".py",
   "mimetype": "text/x-python",
   "name": "python",
   "nbconvert_exporter": "python",
   "pygments_lexer": "ipython3",
   "version": "3.7.10"
  }
 },
 "nbformat": 4,
 "nbformat_minor": 5
}
