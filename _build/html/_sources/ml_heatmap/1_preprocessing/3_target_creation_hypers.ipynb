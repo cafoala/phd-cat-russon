{
 "cells": [
  {
   "cell_type": "markdown",
   "id": "b366c879-ba58-46a8-9635-81cc40149453",
   "metadata": {
    "tags": []
   },
   "source": [
    "# 3. Target creation\n",
    "The objective of this notebook is to create the target variables for ML and statistical analysis.\n",
    "\n",
    "### Target variables\n",
    "The targets of interest are hypo- and hyper-glycemia. A single point in either is considered as a positive result.\n",
    "The time periods of interest for prediction are:\n",
    "- during exercise\n",
    "- the 1 hr after exercise\n",
    "- the 4 hrs after exercise\n",
    "\n",
    "### Features\n",
    "- CGM extracted features\n",
    "    - Start and end glucose\n",
    "    - Metrics of glycemic control (e.g. time in range, average glucose) calculated using diametrics\n",
    "    - features extracted using tsfresh, a python package that automatically calculates a large number of time series characteristics (https://tsfresh.readthedocs.io/en/latest/)\n",
    "    - Time series itself\n",
    "- Exercise diary data (e.g. duration of bout, type of exercise)\n",
    "- Demographics data\n",
    "- Lab data\n",
    "\n",
    "### Objectives:\n",
    "1. Calculate start and end glucose for each bout\n",
    "2. Divide CGM data into periods of interest\n",
    "3. Extract metrics of glycemic control for each period\n",
    "4. Extract tsfresh metrics for each period\n",
    "5. Extract time series\n",
    "5. Combine extracted features into dataframes"
   ]
  },
  {
   "cell_type": "markdown",
   "id": "299be39d-5b90-4882-9818-76d68f90be96",
   "metadata": {},
   "source": [
    "## 3.0. Import packages"
   ]
  },
  {
   "cell_type": "code",
   "execution_count": 19,
   "id": "5fae99d0-2239-476f-8585-de3cbec85089",
   "metadata": {},
   "outputs": [],
   "source": [
    "import pandas as pd\n",
    "import numpy as np\n",
    "from datetime import datetime, date, timedelta\n",
    "import datetime\n",
    "import os\n",
    "from functools import reduce\n",
    "import preprocess_helper\n",
    "from tsfresh import extract_features, extract_relevant_features, select_features\n",
    "from tsfresh.utilities.dataframe_functions import impute, make_forecasting_frame\n",
    "from tsfresh.feature_extraction import ComprehensiveFCParameters, settings\n",
    "import warnings\n",
    "warnings.filterwarnings('ignore')\n",
    "\n",
    "import sys\n",
    "# Change path to wherever Diametrics is\n",
    "path = \"../../diametrics/diametrics\" #### CHANGE\n",
    "sys.path.append(path)\n",
    "import metrics as cgm\n",
    "\n",
    "pd.set_option('display.max_rows', None)\n",
    "pd.set_option('display.max_columns', None)"
   ]
  },
  {
   "cell_type": "code",
   "execution_count": 20,
   "id": "450262da-4f67-4a7b-99f2-6851c21e9ca7",
   "metadata": {
    "tags": []
   },
   "outputs": [],
   "source": [
    "# Define global parameters\n",
    "fift_mins = timedelta(minutes=15)\n",
    "thirt_mins = timedelta(minutes=30)"
   ]
  },
  {
   "cell_type": "code",
   "execution_count": 21,
   "id": "98bddde1-f35c-47cd-ab93-930add51b955",
   "metadata": {},
   "outputs": [],
   "source": [
    "directory = '../../Data/tidy_data/'"
   ]
  },
  {
   "cell_type": "markdown",
   "id": "0548887a-e0b7-4f0d-bfe4-d04b4056a035",
   "metadata": {},
   "source": [
    "## 3.1. Upload data"
   ]
  },
  {
   "cell_type": "markdown",
   "id": "109e0e20-7cbd-41f9-8282-6f6158eb9395",
   "metadata": {},
   "source": [
    "### 3.1.1. Upload EXTOD 101 data"
   ]
  },
  {
   "cell_type": "code",
   "execution_count": 22,
   "id": "43ce741e-e797-4b40-8802-7635daa572bc",
   "metadata": {},
   "outputs": [],
   "source": [
    "# Exercise diaries\n",
    "extod_101_diaries = pd.read_csv(directory + 'extod_101_diaries.csv')\n",
    "extod_101_diaries['start_datetime'] = pd.to_datetime(extod_101_diaries['start_datetime'])\n",
    "extod_101_diaries['finish_datetime'] = pd.to_datetime(extod_101_diaries['finish_datetime'])"
   ]
  },
  {
   "cell_type": "code",
   "execution_count": 23,
   "id": "a5970b6a-39a0-4450-9c33-3d0f31902570",
   "metadata": {},
   "outputs": [
    {
     "data": {
      "text/plain": [
       "776"
      ]
     },
     "execution_count": 23,
     "metadata": {},
     "output_type": "execute_result"
    }
   ],
   "source": [
    "extod_101_diaries.shape[0]"
   ]
  },
  {
   "cell_type": "code",
   "execution_count": 24,
   "id": "1854ddd9-5418-47b2-be55-fa42bdb73a55",
   "metadata": {},
   "outputs": [],
   "source": [
    "# Set the durations of interest to 10-120 mins \n",
    "extod_101_diaries = extod_101_diaries.loc[(extod_101_diaries.duration>=10) & (extod_101_diaries.duration<=120)]"
   ]
  },
  {
   "cell_type": "code",
   "execution_count": 25,
   "id": "dd5a6fbc-220b-43fa-859a-9e0a0c3af02c",
   "metadata": {},
   "outputs": [
    {
     "data": {
      "text/plain": [
       "688"
      ]
     },
     "execution_count": 25,
     "metadata": {},
     "output_type": "execute_result"
    }
   ],
   "source": [
    "extod_101_diaries.shape[0]"
   ]
  },
  {
   "cell_type": "code",
   "execution_count": 26,
   "id": "aeeb68c3",
   "metadata": {},
   "outputs": [],
   "source": [
    "extod_101_diaries = extod_101_diaries.reset_index(drop=True)"
   ]
  },
  {
   "cell_type": "code",
   "execution_count": 39,
   "id": "b594f111-64c2-4a32-8eb2-5562425dd8b8",
   "metadata": {
    "scrolled": true,
    "tags": []
   },
   "outputs": [],
   "source": [
    "# CGM data\n",
    "extod_101_cgm = pd.read_csv(directory +'extod_101_cgm.csv').reset_index(drop=True)\n",
    "extod_101_cgm['time'] = pd.to_datetime(extod_101_cgm['time'])"
   ]
  },
  {
   "cell_type": "code",
   "execution_count": 28,
   "id": "511a98be-256f-4c7f-841c-505e2c0a96e8",
   "metadata": {},
   "outputs": [],
   "source": [
    "# Demo lab data\n",
    "extod_101_demo_lab = pd.read_csv(directory + 'extod_101_demo_lab.csv')"
   ]
  },
  {
   "cell_type": "markdown",
   "id": "81aa71cc-cc3c-4337-896d-bb7579fda42a",
   "metadata": {},
   "source": [
    "### 3.1.2. Upload EXTOD education data"
   ]
  },
  {
   "cell_type": "code",
   "execution_count": 40,
   "id": "d80fe8ab-7b80-46ca-a816-f860d12cc4ed",
   "metadata": {
    "scrolled": true,
    "tags": []
   },
   "outputs": [],
   "source": [
    "# Exercise diaries\n",
    "extod_edu_diaries = pd.read_csv(directory + 'extod_edu_diaries.csv')\n",
    "extod_edu_diaries['start_datetime'] = pd.to_datetime(\n",
    "    extod_edu_diaries['start_datetime'])\n",
    "extod_edu_diaries['finish_datetime'] = pd.to_datetime(\n",
    "    extod_edu_diaries['finish_datetime'])"
   ]
  },
  {
   "cell_type": "code",
   "execution_count": 41,
   "id": "c94c3878-75db-40d7-98e2-76cfbfcfe8f6",
   "metadata": {},
   "outputs": [
    {
     "data": {
      "text/plain": [
       "875"
      ]
     },
     "execution_count": 41,
     "metadata": {},
     "output_type": "execute_result"
    }
   ],
   "source": [
    "extod_edu_diaries.shape[0]"
   ]
  },
  {
   "cell_type": "code",
   "execution_count": 42,
   "id": "a319f07c-4c33-4a8a-9691-f5b665dfe875",
   "metadata": {},
   "outputs": [],
   "source": [
    "# Set the durations of interest to 10-300 mins \n",
    "extod_edu_diaries = extod_edu_diaries.loc[(extod_edu_diaries.duration>=10) &\n",
    "                                          (extod_edu_diaries.duration<=120)]"
   ]
  },
  {
   "cell_type": "code",
   "execution_count": 43,
   "id": "62bcd8f6-7680-48f9-b776-245218bb59fb",
   "metadata": {},
   "outputs": [
    {
     "data": {
      "text/plain": [
       "804"
      ]
     },
     "execution_count": 43,
     "metadata": {},
     "output_type": "execute_result"
    }
   ],
   "source": [
    "extod_edu_diaries.shape[0]"
   ]
  },
  {
   "cell_type": "code",
   "execution_count": 44,
   "id": "34ce3e38",
   "metadata": {},
   "outputs": [],
   "source": [
    "extod_edu_diaries = extod_edu_diaries.reset_index(drop=True)"
   ]
  },
  {
   "cell_type": "code",
   "execution_count": 45,
   "id": "4b28ff1e-3755-4aab-8706-8e58c4339e53",
   "metadata": {
    "tags": []
   },
   "outputs": [],
   "source": [
    "# CGM data\n",
    "extod_edu_cgm = pd.read_csv(directory + 'extod_edu_cgm.csv')\n",
    "extod_edu_cgm['time'] = pd.to_datetime(extod_edu_cgm['time'])\n",
    "#extod_edu_cgm['id'] = str(extod_edu_cgm.ID) + extod_edu_cgm.period\n",
    "# Drop scan_glc column and null values\n",
    "extod_edu_cgm = extod_edu_cgm.drop(columns='period').dropna().reset_index(drop=True)"
   ]
  },
  {
   "cell_type": "code",
   "execution_count": 47,
   "id": "a7bd6dbf-378f-487f-a1e9-44017d41a69f",
   "metadata": {},
   "outputs": [],
   "source": [
    "# Demo lab data\n",
    "extod_edu_demo_lab = pd.read_csv(directory + 'extod_edu_demo_lab.csv')"
   ]
  },
  {
   "cell_type": "code",
   "execution_count": 48,
   "id": "4dfe3f56-fbde-4c48-bcb0-5c11aac6b805",
   "metadata": {},
   "outputs": [],
   "source": [
    "# Combine demo-lab data from both studied\n",
    "demo_lab = pd.concat([extod_101_demo_lab, extod_edu_demo_lab], axis=0)"
   ]
  },
  {
   "cell_type": "markdown",
   "id": "ddff119c-f7e0-463e-8187-c3c4de6cd61d",
   "metadata": {},
   "source": [
    "## 3.2. Calculate start and end glucose"
   ]
  },
  {
   "cell_type": "code",
   "execution_count": 75,
   "id": "d7aacc87",
   "metadata": {},
   "outputs": [
    {
     "data": {
      "text/html": [
       "<div>\n",
       "<style scoped>\n",
       "    .dataframe tbody tr th:only-of-type {\n",
       "        vertical-align: middle;\n",
       "    }\n",
       "\n",
       "    .dataframe tbody tr th {\n",
       "        vertical-align: top;\n",
       "    }\n",
       "\n",
       "    .dataframe thead th {\n",
       "        text-align: right;\n",
       "    }\n",
       "</style>\n",
       "<table border=\"1\" class=\"dataframe\">\n",
       "  <thead>\n",
       "    <tr style=\"text-align: right;\">\n",
       "      <th></th>\n",
       "      <th>ID</th>\n",
       "      <th>time</th>\n",
       "      <th>glc</th>\n",
       "      <th>scan_glc</th>\n",
       "    </tr>\n",
       "  </thead>\n",
       "  <tbody>\n",
       "    <tr>\n",
       "      <th>509287</th>\n",
       "      <td>3035</td>\n",
       "      <td>2018-09-05 07:57:00</td>\n",
       "      <td>NaN</td>\n",
       "      <td>5.9</td>\n",
       "    </tr>\n",
       "    <tr>\n",
       "      <th>509288</th>\n",
       "      <td>3035</td>\n",
       "      <td>2018-09-05 08:48:00</td>\n",
       "      <td>8.0</td>\n",
       "      <td>NaN</td>\n",
       "    </tr>\n",
       "    <tr>\n",
       "      <th>509289</th>\n",
       "      <td>3035</td>\n",
       "      <td>2018-09-05 09:03:00</td>\n",
       "      <td>7.4</td>\n",
       "      <td>NaN</td>\n",
       "    </tr>\n",
       "    <tr>\n",
       "      <th>509290</th>\n",
       "      <td>3035</td>\n",
       "      <td>2018-09-05 09:19:00</td>\n",
       "      <td>7.0</td>\n",
       "      <td>NaN</td>\n",
       "    </tr>\n",
       "    <tr>\n",
       "      <th>509291</th>\n",
       "      <td>3035</td>\n",
       "      <td>2018-09-05 09:31:00</td>\n",
       "      <td>NaN</td>\n",
       "      <td>7.8</td>\n",
       "    </tr>\n",
       "  </tbody>\n",
       "</table>\n",
       "</div>"
      ],
      "text/plain": [
       "          ID                time  glc  scan_glc\n",
       "509287  3035 2018-09-05 07:57:00  NaN       5.9\n",
       "509288  3035 2018-09-05 08:48:00  8.0       NaN\n",
       "509289  3035 2018-09-05 09:03:00  7.4       NaN\n",
       "509290  3035 2018-09-05 09:19:00  7.0       NaN\n",
       "509291  3035 2018-09-05 09:31:00  NaN       7.8"
      ]
     },
     "execution_count": 75,
     "metadata": {},
     "output_type": "execute_result"
    }
   ],
   "source": [
    "extod_101_cgm.tail()\n"
   ]
  },
  {
   "cell_type": "code",
   "execution_count": 76,
   "id": "584aa4e5",
   "metadata": {},
   "outputs": [],
   "source": [
    "extod_101_cgm = extod_101_cgm.reset_index()"
   ]
  },
  {
   "cell_type": "code",
   "execution_count": 77,
   "id": "404faeae",
   "metadata": {},
   "outputs": [
    {
     "data": {
      "text/html": [
       "<div>\n",
       "<style scoped>\n",
       "    .dataframe tbody tr th:only-of-type {\n",
       "        vertical-align: middle;\n",
       "    }\n",
       "\n",
       "    .dataframe tbody tr th {\n",
       "        vertical-align: top;\n",
       "    }\n",
       "\n",
       "    .dataframe thead th {\n",
       "        text-align: right;\n",
       "    }\n",
       "</style>\n",
       "<table border=\"1\" class=\"dataframe\">\n",
       "  <thead>\n",
       "    <tr style=\"text-align: right;\">\n",
       "      <th></th>\n",
       "      <th>index</th>\n",
       "      <th>ID</th>\n",
       "      <th>time</th>\n",
       "      <th>glc</th>\n",
       "      <th>scan_glc</th>\n",
       "    </tr>\n",
       "  </thead>\n",
       "  <tbody>\n",
       "    <tr>\n",
       "      <th>509287</th>\n",
       "      <td>509287</td>\n",
       "      <td>3035</td>\n",
       "      <td>2018-09-05 07:57:00</td>\n",
       "      <td>NaN</td>\n",
       "      <td>5.9</td>\n",
       "    </tr>\n",
       "    <tr>\n",
       "      <th>509288</th>\n",
       "      <td>509288</td>\n",
       "      <td>3035</td>\n",
       "      <td>2018-09-05 08:48:00</td>\n",
       "      <td>8.0</td>\n",
       "      <td>NaN</td>\n",
       "    </tr>\n",
       "    <tr>\n",
       "      <th>509289</th>\n",
       "      <td>509289</td>\n",
       "      <td>3035</td>\n",
       "      <td>2018-09-05 09:03:00</td>\n",
       "      <td>7.4</td>\n",
       "      <td>NaN</td>\n",
       "    </tr>\n",
       "    <tr>\n",
       "      <th>509290</th>\n",
       "      <td>509290</td>\n",
       "      <td>3035</td>\n",
       "      <td>2018-09-05 09:19:00</td>\n",
       "      <td>7.0</td>\n",
       "      <td>NaN</td>\n",
       "    </tr>\n",
       "    <tr>\n",
       "      <th>509291</th>\n",
       "      <td>509291</td>\n",
       "      <td>3035</td>\n",
       "      <td>2018-09-05 09:31:00</td>\n",
       "      <td>NaN</td>\n",
       "      <td>7.8</td>\n",
       "    </tr>\n",
       "  </tbody>\n",
       "</table>\n",
       "</div>"
      ],
      "text/plain": [
       "         index    ID                time  glc  scan_glc\n",
       "509287  509287  3035 2018-09-05 07:57:00  NaN       5.9\n",
       "509288  509288  3035 2018-09-05 08:48:00  8.0       NaN\n",
       "509289  509289  3035 2018-09-05 09:03:00  7.4       NaN\n",
       "509290  509290  3035 2018-09-05 09:19:00  7.0       NaN\n",
       "509291  509291  3035 2018-09-05 09:31:00  NaN       7.8"
      ]
     },
     "execution_count": 77,
     "metadata": {},
     "output_type": "execute_result"
    }
   ],
   "source": [
    "extod_101_cgm.tail()"
   ]
  },
  {
   "cell_type": "code",
   "execution_count": 86,
   "id": "f4b003d9",
   "metadata": {},
   "outputs": [],
   "source": [
    "def calc_glc(df, time, window, libre=False):\n",
    "    '''\n",
    "    Calculates the starting glucose from the time and cgm data\n",
    "    '''\n",
    "    time = pd.to_datetime(time)\n",
    "    # treating the exercise period as truth, so only look before\n",
    "    sub_df = df[(df['time'] >= (time - timedelta(minutes=window))) &\n",
    "                (df['time'] < time)]\n",
    "    if not sub_df.empty:\n",
    "        if libre:\n",
    "            sub_df.dropna(subset=['glc', 'scan_glc'], how='all', inplace=True)\n",
    "            sub_df['glc'].fillna(sub_df.scan_glc, inplace=True)\n",
    "        \n",
    "        # Calculate diff\n",
    "        sub_df['one_time'] = time\n",
    "        sub_df['diff'] = sub_df[['time', 'one_time']].diff(axis=1)['one_time']\n",
    "        sub_df['diff'] = sub_df['diff'].apply(lambda x: abs(x.total_seconds()))\n",
    "        ind = sub_df['diff'].idxmin()\n",
    "        glc = sub_df['glc'].loc[ind]\n",
    "        try:\n",
    "            ind_prev = ind-1\n",
    "            \n",
    "            if (df.iloc[ind].time - df.iloc[ind_prev].time) < timedelta(minutes=60):\n",
    "                prec_reading_glc = df.loc[ind_prev].glc\n",
    "            else:\n",
    "                prec_reading_glc = np.nan\n",
    "        except Exception as e:\n",
    "            prec_reading_glc = np.nan\n",
    "\n",
    "\n",
    "    else:\n",
    "        glc = np.nan\n",
    "        prec_reading_glc = np.nan\n",
    "    \n",
    "    return glc, prec_reading_glc"
   ]
  },
  {
   "cell_type": "code",
   "execution_count": 87,
   "id": "d2c0158c",
   "metadata": {},
   "outputs": [],
   "source": [
    "# Calculate start + end glucose for 101 diaries\n",
    "extod_101_diaries['start_glc'] = extod_101_diaries.apply(lambda row: calc_glc(\n",
    "    extod_101_cgm.loc[extod_101_cgm['ID']==row.ID], row.start_datetime, 30,\n",
    "    True), axis=1)"
   ]
  },
  {
   "cell_type": "code",
   "execution_count": 79,
   "id": "f79c0f12",
   "metadata": {},
   "outputs": [
    {
     "data": {
      "text/plain": [
       "time    2018-01-11 07:04:03\n",
       "glc                    8.49\n",
       "ID                     1006\n",
       "Name: 106260, dtype: object"
      ]
     },
     "execution_count": 79,
     "metadata": {},
     "output_type": "execute_result"
    }
   ],
   "source": [
    "extod_edu_cgm.iloc[106260]"
   ]
  },
  {
   "cell_type": "code",
   "execution_count": 78,
   "id": "e927eb5e",
   "metadata": {},
   "outputs": [
    {
     "ename": "KeyError",
     "evalue": "106260",
     "output_type": "error",
     "traceback": [
      "\u001b[0;31m---------------------------------------------------------------------------\u001b[0m",
      "\u001b[0;31mKeyError\u001b[0m                                  Traceback (most recent call last)",
      "File \u001b[0;32m~/miniconda3/envs/ml_cgm_env_test/lib/python3.9/site-packages/pandas/core/indexes/base.py:3361\u001b[0m, in \u001b[0;36mIndex.get_loc\u001b[0;34m(self, key, method, tolerance)\u001b[0m\n\u001b[1;32m   3360\u001b[0m \u001b[39mtry\u001b[39;00m:\n\u001b[0;32m-> 3361\u001b[0m     \u001b[39mreturn\u001b[39;00m \u001b[39mself\u001b[39;49m\u001b[39m.\u001b[39;49m_engine\u001b[39m.\u001b[39;49mget_loc(casted_key)\n\u001b[1;32m   3362\u001b[0m \u001b[39mexcept\u001b[39;00m \u001b[39mKeyError\u001b[39;00m \u001b[39mas\u001b[39;00m err:\n",
      "File \u001b[0;32m~/miniconda3/envs/ml_cgm_env_test/lib/python3.9/site-packages/pandas/_libs/index.pyx:76\u001b[0m, in \u001b[0;36mpandas._libs.index.IndexEngine.get_loc\u001b[0;34m()\u001b[0m\n",
      "File \u001b[0;32m~/miniconda3/envs/ml_cgm_env_test/lib/python3.9/site-packages/pandas/_libs/index.pyx:108\u001b[0m, in \u001b[0;36mpandas._libs.index.IndexEngine.get_loc\u001b[0;34m()\u001b[0m\n",
      "File \u001b[0;32mpandas/_libs/hashtable_class_helper.pxi:2131\u001b[0m, in \u001b[0;36mpandas._libs.hashtable.Int64HashTable.get_item\u001b[0;34m()\u001b[0m\n",
      "File \u001b[0;32mpandas/_libs/hashtable_class_helper.pxi:2140\u001b[0m, in \u001b[0;36mpandas._libs.hashtable.Int64HashTable.get_item\u001b[0;34m()\u001b[0m\n",
      "\u001b[0;31mKeyError\u001b[0m: 106260",
      "\nThe above exception was the direct cause of the following exception:\n",
      "\u001b[0;31mKeyError\u001b[0m                                  Traceback (most recent call last)",
      "Cell \u001b[0;32mIn[78], line 2\u001b[0m\n\u001b[1;32m      1\u001b[0m \u001b[39m# Calculate start + end glucose for edu diaries\u001b[39;00m\n\u001b[0;32m----> 2\u001b[0m extod_edu_diaries[\u001b[39m'\u001b[39m\u001b[39mstart_glc\u001b[39m\u001b[39m'\u001b[39m] \u001b[39m=\u001b[39m extod_edu_diaries\u001b[39m.\u001b[39;49mapply(\u001b[39mlambda\u001b[39;49;00m row: preprocess_helper\u001b[39m.\u001b[39;49mcalc_glc(\n\u001b[1;32m      3\u001b[0m     extod_edu_cgm\u001b[39m.\u001b[39;49mloc[extod_edu_cgm[\u001b[39m'\u001b[39;49m\u001b[39mID\u001b[39;49m\u001b[39m'\u001b[39;49m]\u001b[39m==\u001b[39;49mrow\u001b[39m.\u001b[39;49mID], row\u001b[39m.\u001b[39;49mstart_datetime, \u001b[39m30\u001b[39;49m,\n\u001b[1;32m      4\u001b[0m     \u001b[39mFalse\u001b[39;49;00m), axis\u001b[39m=\u001b[39;49m\u001b[39m1\u001b[39;49m)\n",
      "File \u001b[0;32m~/miniconda3/envs/ml_cgm_env_test/lib/python3.9/site-packages/pandas/core/frame.py:8740\u001b[0m, in \u001b[0;36mDataFrame.apply\u001b[0;34m(self, func, axis, raw, result_type, args, **kwargs)\u001b[0m\n\u001b[1;32m   8729\u001b[0m \u001b[39mfrom\u001b[39;00m \u001b[39mpandas\u001b[39;00m\u001b[39m.\u001b[39;00m\u001b[39mcore\u001b[39;00m\u001b[39m.\u001b[39;00m\u001b[39mapply\u001b[39;00m \u001b[39mimport\u001b[39;00m frame_apply\n\u001b[1;32m   8731\u001b[0m op \u001b[39m=\u001b[39m frame_apply(\n\u001b[1;32m   8732\u001b[0m     \u001b[39mself\u001b[39m,\n\u001b[1;32m   8733\u001b[0m     func\u001b[39m=\u001b[39mfunc,\n\u001b[0;32m   (...)\u001b[0m\n\u001b[1;32m   8738\u001b[0m     kwargs\u001b[39m=\u001b[39mkwargs,\n\u001b[1;32m   8739\u001b[0m )\n\u001b[0;32m-> 8740\u001b[0m \u001b[39mreturn\u001b[39;00m op\u001b[39m.\u001b[39;49mapply()\n",
      "File \u001b[0;32m~/miniconda3/envs/ml_cgm_env_test/lib/python3.9/site-packages/pandas/core/apply.py:688\u001b[0m, in \u001b[0;36mFrameApply.apply\u001b[0;34m(self)\u001b[0m\n\u001b[1;32m    685\u001b[0m \u001b[39melif\u001b[39;00m \u001b[39mself\u001b[39m\u001b[39m.\u001b[39mraw:\n\u001b[1;32m    686\u001b[0m     \u001b[39mreturn\u001b[39;00m \u001b[39mself\u001b[39m\u001b[39m.\u001b[39mapply_raw()\n\u001b[0;32m--> 688\u001b[0m \u001b[39mreturn\u001b[39;00m \u001b[39mself\u001b[39;49m\u001b[39m.\u001b[39;49mapply_standard()\n",
      "File \u001b[0;32m~/miniconda3/envs/ml_cgm_env_test/lib/python3.9/site-packages/pandas/core/apply.py:812\u001b[0m, in \u001b[0;36mFrameApply.apply_standard\u001b[0;34m(self)\u001b[0m\n\u001b[1;32m    811\u001b[0m \u001b[39mdef\u001b[39;00m \u001b[39mapply_standard\u001b[39m(\u001b[39mself\u001b[39m):\n\u001b[0;32m--> 812\u001b[0m     results, res_index \u001b[39m=\u001b[39m \u001b[39mself\u001b[39;49m\u001b[39m.\u001b[39;49mapply_series_generator()\n\u001b[1;32m    814\u001b[0m     \u001b[39m# wrap results\u001b[39;00m\n\u001b[1;32m    815\u001b[0m     \u001b[39mreturn\u001b[39;00m \u001b[39mself\u001b[39m\u001b[39m.\u001b[39mwrap_results(results, res_index)\n",
      "File \u001b[0;32m~/miniconda3/envs/ml_cgm_env_test/lib/python3.9/site-packages/pandas/core/apply.py:828\u001b[0m, in \u001b[0;36mFrameApply.apply_series_generator\u001b[0;34m(self)\u001b[0m\n\u001b[1;32m    825\u001b[0m \u001b[39mwith\u001b[39;00m option_context(\u001b[39m\"\u001b[39m\u001b[39mmode.chained_assignment\u001b[39m\u001b[39m\"\u001b[39m, \u001b[39mNone\u001b[39;00m):\n\u001b[1;32m    826\u001b[0m     \u001b[39mfor\u001b[39;00m i, v \u001b[39min\u001b[39;00m \u001b[39menumerate\u001b[39m(series_gen):\n\u001b[1;32m    827\u001b[0m         \u001b[39m# ignore SettingWithCopy here in case the user mutates\u001b[39;00m\n\u001b[0;32m--> 828\u001b[0m         results[i] \u001b[39m=\u001b[39m \u001b[39mself\u001b[39;49m\u001b[39m.\u001b[39;49mf(v)\n\u001b[1;32m    829\u001b[0m         \u001b[39mif\u001b[39;00m \u001b[39misinstance\u001b[39m(results[i], ABCSeries):\n\u001b[1;32m    830\u001b[0m             \u001b[39m# If we have a view on v, we need to make a copy because\u001b[39;00m\n\u001b[1;32m    831\u001b[0m             \u001b[39m#  series_generator will swap out the underlying data\u001b[39;00m\n\u001b[1;32m    832\u001b[0m             results[i] \u001b[39m=\u001b[39m results[i]\u001b[39m.\u001b[39mcopy(deep\u001b[39m=\u001b[39m\u001b[39mFalse\u001b[39;00m)\n",
      "Cell \u001b[0;32mIn[78], line 2\u001b[0m, in \u001b[0;36m<lambda>\u001b[0;34m(row)\u001b[0m\n\u001b[1;32m      1\u001b[0m \u001b[39m# Calculate start + end glucose for edu diaries\u001b[39;00m\n\u001b[0;32m----> 2\u001b[0m extod_edu_diaries[\u001b[39m'\u001b[39m\u001b[39mstart_glc\u001b[39m\u001b[39m'\u001b[39m] \u001b[39m=\u001b[39m extod_edu_diaries\u001b[39m.\u001b[39mapply(\u001b[39mlambda\u001b[39;00m row: preprocess_helper\u001b[39m.\u001b[39;49mcalc_glc(\n\u001b[1;32m      3\u001b[0m     extod_edu_cgm\u001b[39m.\u001b[39;49mloc[extod_edu_cgm[\u001b[39m'\u001b[39;49m\u001b[39mID\u001b[39;49m\u001b[39m'\u001b[39;49m]\u001b[39m==\u001b[39;49mrow\u001b[39m.\u001b[39;49mID], row\u001b[39m.\u001b[39;49mstart_datetime, \u001b[39m30\u001b[39;49m,\n\u001b[1;32m      4\u001b[0m     \u001b[39mFalse\u001b[39;49;00m), axis\u001b[39m=\u001b[39m\u001b[39m1\u001b[39m)\n",
      "File \u001b[0;32m~/Desktop/projects/ml-cgm/Code/1_preprocessing/preprocess_helper.py:311\u001b[0m, in \u001b[0;36mcalc_glc\u001b[0;34m(df, time, window, libre)\u001b[0m\n\u001b[1;32m    309\u001b[0m     glc \u001b[39m=\u001b[39m sub_df[\u001b[39m'\u001b[39m\u001b[39mglc\u001b[39m\u001b[39m'\u001b[39m]\u001b[39m.\u001b[39mloc[ind]\n\u001b[1;32m    310\u001b[0m     ind_prev \u001b[39m=\u001b[39m ind\u001b[39m-\u001b[39m\u001b[39m1\u001b[39m\n\u001b[0;32m--> 311\u001b[0m     prec_reading_glc \u001b[39m=\u001b[39m sub_df\u001b[39m.\u001b[39;49mloc[ind_prev]\u001b[39m.\u001b[39mglc\n\u001b[1;32m    312\u001b[0m \u001b[39melse\u001b[39;00m:\n\u001b[1;32m    313\u001b[0m     glc \u001b[39m=\u001b[39m np\u001b[39m.\u001b[39mnan\n",
      "File \u001b[0;32m~/miniconda3/envs/ml_cgm_env_test/lib/python3.9/site-packages/pandas/core/indexing.py:931\u001b[0m, in \u001b[0;36m_LocationIndexer.__getitem__\u001b[0;34m(self, key)\u001b[0m\n\u001b[1;32m    928\u001b[0m axis \u001b[39m=\u001b[39m \u001b[39mself\u001b[39m\u001b[39m.\u001b[39maxis \u001b[39mor\u001b[39;00m \u001b[39m0\u001b[39m\n\u001b[1;32m    930\u001b[0m maybe_callable \u001b[39m=\u001b[39m com\u001b[39m.\u001b[39mapply_if_callable(key, \u001b[39mself\u001b[39m\u001b[39m.\u001b[39mobj)\n\u001b[0;32m--> 931\u001b[0m \u001b[39mreturn\u001b[39;00m \u001b[39mself\u001b[39;49m\u001b[39m.\u001b[39;49m_getitem_axis(maybe_callable, axis\u001b[39m=\u001b[39;49maxis)\n",
      "File \u001b[0;32m~/miniconda3/envs/ml_cgm_env_test/lib/python3.9/site-packages/pandas/core/indexing.py:1164\u001b[0m, in \u001b[0;36m_LocIndexer._getitem_axis\u001b[0;34m(self, key, axis)\u001b[0m\n\u001b[1;32m   1162\u001b[0m \u001b[39m# fall thru to straight lookup\u001b[39;00m\n\u001b[1;32m   1163\u001b[0m \u001b[39mself\u001b[39m\u001b[39m.\u001b[39m_validate_key(key, axis)\n\u001b[0;32m-> 1164\u001b[0m \u001b[39mreturn\u001b[39;00m \u001b[39mself\u001b[39;49m\u001b[39m.\u001b[39;49m_get_label(key, axis\u001b[39m=\u001b[39;49maxis)\n",
      "File \u001b[0;32m~/miniconda3/envs/ml_cgm_env_test/lib/python3.9/site-packages/pandas/core/indexing.py:1113\u001b[0m, in \u001b[0;36m_LocIndexer._get_label\u001b[0;34m(self, label, axis)\u001b[0m\n\u001b[1;32m   1111\u001b[0m \u001b[39mdef\u001b[39;00m \u001b[39m_get_label\u001b[39m(\u001b[39mself\u001b[39m, label, axis: \u001b[39mint\u001b[39m):\n\u001b[1;32m   1112\u001b[0m     \u001b[39m# GH#5667 this will fail if the label is not present in the axis.\u001b[39;00m\n\u001b[0;32m-> 1113\u001b[0m     \u001b[39mreturn\u001b[39;00m \u001b[39mself\u001b[39;49m\u001b[39m.\u001b[39;49mobj\u001b[39m.\u001b[39;49mxs(label, axis\u001b[39m=\u001b[39;49maxis)\n",
      "File \u001b[0;32m~/miniconda3/envs/ml_cgm_env_test/lib/python3.9/site-packages/pandas/core/generic.py:3776\u001b[0m, in \u001b[0;36mNDFrame.xs\u001b[0;34m(self, key, axis, level, drop_level)\u001b[0m\n\u001b[1;32m   3774\u001b[0m         \u001b[39mraise\u001b[39;00m \u001b[39mTypeError\u001b[39;00m(\u001b[39mf\u001b[39m\u001b[39m\"\u001b[39m\u001b[39mExpected label or tuple of labels, got \u001b[39m\u001b[39m{\u001b[39;00mkey\u001b[39m}\u001b[39;00m\u001b[39m\"\u001b[39m) \u001b[39mfrom\u001b[39;00m \u001b[39me\u001b[39;00m\n\u001b[1;32m   3775\u001b[0m \u001b[39melse\u001b[39;00m:\n\u001b[0;32m-> 3776\u001b[0m     loc \u001b[39m=\u001b[39m index\u001b[39m.\u001b[39;49mget_loc(key)\n\u001b[1;32m   3778\u001b[0m     \u001b[39mif\u001b[39;00m \u001b[39misinstance\u001b[39m(loc, np\u001b[39m.\u001b[39mndarray):\n\u001b[1;32m   3779\u001b[0m         \u001b[39mif\u001b[39;00m loc\u001b[39m.\u001b[39mdtype \u001b[39m==\u001b[39m np\u001b[39m.\u001b[39mbool_:\n",
      "File \u001b[0;32m~/miniconda3/envs/ml_cgm_env_test/lib/python3.9/site-packages/pandas/core/indexes/base.py:3363\u001b[0m, in \u001b[0;36mIndex.get_loc\u001b[0;34m(self, key, method, tolerance)\u001b[0m\n\u001b[1;32m   3361\u001b[0m         \u001b[39mreturn\u001b[39;00m \u001b[39mself\u001b[39m\u001b[39m.\u001b[39m_engine\u001b[39m.\u001b[39mget_loc(casted_key)\n\u001b[1;32m   3362\u001b[0m     \u001b[39mexcept\u001b[39;00m \u001b[39mKeyError\u001b[39;00m \u001b[39mas\u001b[39;00m err:\n\u001b[0;32m-> 3363\u001b[0m         \u001b[39mraise\u001b[39;00m \u001b[39mKeyError\u001b[39;00m(key) \u001b[39mfrom\u001b[39;00m \u001b[39merr\u001b[39;00m\n\u001b[1;32m   3365\u001b[0m \u001b[39mif\u001b[39;00m is_scalar(key) \u001b[39mand\u001b[39;00m isna(key) \u001b[39mand\u001b[39;00m \u001b[39mnot\u001b[39;00m \u001b[39mself\u001b[39m\u001b[39m.\u001b[39mhasnans:\n\u001b[1;32m   3366\u001b[0m     \u001b[39mraise\u001b[39;00m \u001b[39mKeyError\u001b[39;00m(key)\n",
      "\u001b[0;31mKeyError\u001b[0m: 106260"
     ]
    }
   ],
   "source": [
    "# Calculate start + end glucose for edu diaries\n",
    "extod_edu_diaries['start_glc'] = extod_edu_diaries.apply(lambda row: preprocess_helper.calc_glc(\n",
    "    extod_edu_cgm.loc[extod_edu_cgm['ID']==row.ID], row.start_datetime, 30,\n",
    "    False), axis=1)\n"
   ]
  },
  {
   "cell_type": "code",
   "execution_count": 50,
   "id": "82dabd24-9cac-4b3a-a9e0-a6526d97fdb6",
   "metadata": {
    "tags": []
   },
   "outputs": [
    {
     "ename": "KeyError",
     "evalue": "223141",
     "output_type": "error",
     "traceback": [
      "\u001b[0;31m---------------------------------------------------------------------------\u001b[0m",
      "\u001b[0;31mKeyError\u001b[0m                                  Traceback (most recent call last)",
      "File \u001b[0;32m~/miniconda3/envs/ml_cgm_env_test/lib/python3.9/site-packages/pandas/core/indexes/base.py:3361\u001b[0m, in \u001b[0;36mIndex.get_loc\u001b[0;34m(self, key, method, tolerance)\u001b[0m\n\u001b[1;32m   3360\u001b[0m \u001b[39mtry\u001b[39;00m:\n\u001b[0;32m-> 3361\u001b[0m     \u001b[39mreturn\u001b[39;00m \u001b[39mself\u001b[39;49m\u001b[39m.\u001b[39;49m_engine\u001b[39m.\u001b[39;49mget_loc(casted_key)\n\u001b[1;32m   3362\u001b[0m \u001b[39mexcept\u001b[39;00m \u001b[39mKeyError\u001b[39;00m \u001b[39mas\u001b[39;00m err:\n",
      "File \u001b[0;32m~/miniconda3/envs/ml_cgm_env_test/lib/python3.9/site-packages/pandas/_libs/index.pyx:76\u001b[0m, in \u001b[0;36mpandas._libs.index.IndexEngine.get_loc\u001b[0;34m()\u001b[0m\n",
      "File \u001b[0;32m~/miniconda3/envs/ml_cgm_env_test/lib/python3.9/site-packages/pandas/_libs/index.pyx:108\u001b[0m, in \u001b[0;36mpandas._libs.index.IndexEngine.get_loc\u001b[0;34m()\u001b[0m\n",
      "File \u001b[0;32mpandas/_libs/hashtable_class_helper.pxi:2131\u001b[0m, in \u001b[0;36mpandas._libs.hashtable.Int64HashTable.get_item\u001b[0;34m()\u001b[0m\n",
      "File \u001b[0;32mpandas/_libs/hashtable_class_helper.pxi:2140\u001b[0m, in \u001b[0;36mpandas._libs.hashtable.Int64HashTable.get_item\u001b[0;34m()\u001b[0m\n",
      "\u001b[0;31mKeyError\u001b[0m: 223141",
      "\nThe above exception was the direct cause of the following exception:\n",
      "\u001b[0;31mKeyError\u001b[0m                                  Traceback (most recent call last)",
      "Cell \u001b[0;32mIn[50], line 2\u001b[0m\n\u001b[1;32m      1\u001b[0m \u001b[39m# Calculate start + end glucose for 101 diaries\u001b[39;00m\n\u001b[0;32m----> 2\u001b[0m extod_101_diaries[\u001b[39m'\u001b[39m\u001b[39mstart_glc\u001b[39m\u001b[39m'\u001b[39m] \u001b[39m=\u001b[39m extod_101_diaries\u001b[39m.\u001b[39;49mapply(\u001b[39mlambda\u001b[39;49;00m row: preprocess_helper\u001b[39m.\u001b[39;49mcalc_glc(\n\u001b[1;32m      3\u001b[0m     extod_101_cgm\u001b[39m.\u001b[39;49mloc[extod_101_cgm[\u001b[39m'\u001b[39;49m\u001b[39mID\u001b[39;49m\u001b[39m'\u001b[39;49m]\u001b[39m==\u001b[39;49mrow\u001b[39m.\u001b[39;49mID], row\u001b[39m.\u001b[39;49mstart_datetime, \u001b[39m30\u001b[39;49m,\n\u001b[1;32m      4\u001b[0m     \u001b[39mTrue\u001b[39;49;00m), axis\u001b[39m=\u001b[39;49m\u001b[39m1\u001b[39;49m)\n\u001b[1;32m      6\u001b[0m \u001b[39m# Calculate start + end glucose for edu diaries\u001b[39;00m\n\u001b[1;32m      7\u001b[0m extod_edu_diaries[\u001b[39m'\u001b[39m\u001b[39mstart_glc\u001b[39m\u001b[39m'\u001b[39m] \u001b[39m=\u001b[39m extod_edu_diaries\u001b[39m.\u001b[39mapply(\u001b[39mlambda\u001b[39;00m row: preprocess_helper\u001b[39m.\u001b[39mcalc_glc(\n\u001b[1;32m      8\u001b[0m     extod_edu_cgm\u001b[39m.\u001b[39mloc[extod_edu_cgm[\u001b[39m'\u001b[39m\u001b[39mID\u001b[39m\u001b[39m'\u001b[39m]\u001b[39m==\u001b[39mrow\u001b[39m.\u001b[39mID], row\u001b[39m.\u001b[39mstart_datetime, \u001b[39m30\u001b[39m,\n\u001b[1;32m      9\u001b[0m     \u001b[39mFalse\u001b[39;00m), axis\u001b[39m=\u001b[39m\u001b[39m1\u001b[39m)\n",
      "File \u001b[0;32m~/miniconda3/envs/ml_cgm_env_test/lib/python3.9/site-packages/pandas/core/frame.py:8740\u001b[0m, in \u001b[0;36mDataFrame.apply\u001b[0;34m(self, func, axis, raw, result_type, args, **kwargs)\u001b[0m\n\u001b[1;32m   8729\u001b[0m \u001b[39mfrom\u001b[39;00m \u001b[39mpandas\u001b[39;00m\u001b[39m.\u001b[39;00m\u001b[39mcore\u001b[39;00m\u001b[39m.\u001b[39;00m\u001b[39mapply\u001b[39;00m \u001b[39mimport\u001b[39;00m frame_apply\n\u001b[1;32m   8731\u001b[0m op \u001b[39m=\u001b[39m frame_apply(\n\u001b[1;32m   8732\u001b[0m     \u001b[39mself\u001b[39m,\n\u001b[1;32m   8733\u001b[0m     func\u001b[39m=\u001b[39mfunc,\n\u001b[0;32m   (...)\u001b[0m\n\u001b[1;32m   8738\u001b[0m     kwargs\u001b[39m=\u001b[39mkwargs,\n\u001b[1;32m   8739\u001b[0m )\n\u001b[0;32m-> 8740\u001b[0m \u001b[39mreturn\u001b[39;00m op\u001b[39m.\u001b[39;49mapply()\n",
      "File \u001b[0;32m~/miniconda3/envs/ml_cgm_env_test/lib/python3.9/site-packages/pandas/core/apply.py:688\u001b[0m, in \u001b[0;36mFrameApply.apply\u001b[0;34m(self)\u001b[0m\n\u001b[1;32m    685\u001b[0m \u001b[39melif\u001b[39;00m \u001b[39mself\u001b[39m\u001b[39m.\u001b[39mraw:\n\u001b[1;32m    686\u001b[0m     \u001b[39mreturn\u001b[39;00m \u001b[39mself\u001b[39m\u001b[39m.\u001b[39mapply_raw()\n\u001b[0;32m--> 688\u001b[0m \u001b[39mreturn\u001b[39;00m \u001b[39mself\u001b[39;49m\u001b[39m.\u001b[39;49mapply_standard()\n",
      "File \u001b[0;32m~/miniconda3/envs/ml_cgm_env_test/lib/python3.9/site-packages/pandas/core/apply.py:812\u001b[0m, in \u001b[0;36mFrameApply.apply_standard\u001b[0;34m(self)\u001b[0m\n\u001b[1;32m    811\u001b[0m \u001b[39mdef\u001b[39;00m \u001b[39mapply_standard\u001b[39m(\u001b[39mself\u001b[39m):\n\u001b[0;32m--> 812\u001b[0m     results, res_index \u001b[39m=\u001b[39m \u001b[39mself\u001b[39;49m\u001b[39m.\u001b[39;49mapply_series_generator()\n\u001b[1;32m    814\u001b[0m     \u001b[39m# wrap results\u001b[39;00m\n\u001b[1;32m    815\u001b[0m     \u001b[39mreturn\u001b[39;00m \u001b[39mself\u001b[39m\u001b[39m.\u001b[39mwrap_results(results, res_index)\n",
      "File \u001b[0;32m~/miniconda3/envs/ml_cgm_env_test/lib/python3.9/site-packages/pandas/core/apply.py:828\u001b[0m, in \u001b[0;36mFrameApply.apply_series_generator\u001b[0;34m(self)\u001b[0m\n\u001b[1;32m    825\u001b[0m \u001b[39mwith\u001b[39;00m option_context(\u001b[39m\"\u001b[39m\u001b[39mmode.chained_assignment\u001b[39m\u001b[39m\"\u001b[39m, \u001b[39mNone\u001b[39;00m):\n\u001b[1;32m    826\u001b[0m     \u001b[39mfor\u001b[39;00m i, v \u001b[39min\u001b[39;00m \u001b[39menumerate\u001b[39m(series_gen):\n\u001b[1;32m    827\u001b[0m         \u001b[39m# ignore SettingWithCopy here in case the user mutates\u001b[39;00m\n\u001b[0;32m--> 828\u001b[0m         results[i] \u001b[39m=\u001b[39m \u001b[39mself\u001b[39;49m\u001b[39m.\u001b[39;49mf(v)\n\u001b[1;32m    829\u001b[0m         \u001b[39mif\u001b[39;00m \u001b[39misinstance\u001b[39m(results[i], ABCSeries):\n\u001b[1;32m    830\u001b[0m             \u001b[39m# If we have a view on v, we need to make a copy because\u001b[39;00m\n\u001b[1;32m    831\u001b[0m             \u001b[39m#  series_generator will swap out the underlying data\u001b[39;00m\n\u001b[1;32m    832\u001b[0m             results[i] \u001b[39m=\u001b[39m results[i]\u001b[39m.\u001b[39mcopy(deep\u001b[39m=\u001b[39m\u001b[39mFalse\u001b[39;00m)\n",
      "Cell \u001b[0;32mIn[50], line 2\u001b[0m, in \u001b[0;36m<lambda>\u001b[0;34m(row)\u001b[0m\n\u001b[1;32m      1\u001b[0m \u001b[39m# Calculate start + end glucose for 101 diaries\u001b[39;00m\n\u001b[0;32m----> 2\u001b[0m extod_101_diaries[\u001b[39m'\u001b[39m\u001b[39mstart_glc\u001b[39m\u001b[39m'\u001b[39m] \u001b[39m=\u001b[39m extod_101_diaries\u001b[39m.\u001b[39mapply(\u001b[39mlambda\u001b[39;00m row: preprocess_helper\u001b[39m.\u001b[39;49mcalc_glc(\n\u001b[1;32m      3\u001b[0m     extod_101_cgm\u001b[39m.\u001b[39;49mloc[extod_101_cgm[\u001b[39m'\u001b[39;49m\u001b[39mID\u001b[39;49m\u001b[39m'\u001b[39;49m]\u001b[39m==\u001b[39;49mrow\u001b[39m.\u001b[39;49mID], row\u001b[39m.\u001b[39;49mstart_datetime, \u001b[39m30\u001b[39;49m,\n\u001b[1;32m      4\u001b[0m     \u001b[39mTrue\u001b[39;49;00m), axis\u001b[39m=\u001b[39m\u001b[39m1\u001b[39m)\n\u001b[1;32m      6\u001b[0m \u001b[39m# Calculate start + end glucose for edu diaries\u001b[39;00m\n\u001b[1;32m      7\u001b[0m extod_edu_diaries[\u001b[39m'\u001b[39m\u001b[39mstart_glc\u001b[39m\u001b[39m'\u001b[39m] \u001b[39m=\u001b[39m extod_edu_diaries\u001b[39m.\u001b[39mapply(\u001b[39mlambda\u001b[39;00m row: preprocess_helper\u001b[39m.\u001b[39mcalc_glc(\n\u001b[1;32m      8\u001b[0m     extod_edu_cgm\u001b[39m.\u001b[39mloc[extod_edu_cgm[\u001b[39m'\u001b[39m\u001b[39mID\u001b[39m\u001b[39m'\u001b[39m]\u001b[39m==\u001b[39mrow\u001b[39m.\u001b[39mID], row\u001b[39m.\u001b[39mstart_datetime, \u001b[39m30\u001b[39m,\n\u001b[1;32m      9\u001b[0m     \u001b[39mFalse\u001b[39;00m), axis\u001b[39m=\u001b[39m\u001b[39m1\u001b[39m)\n",
      "File \u001b[0;32m~/Desktop/projects/ml-cgm/Code/1_preprocessing/preprocess_helper.py:311\u001b[0m, in \u001b[0;36mcalc_glc\u001b[0;34m(df, time, window, libre)\u001b[0m\n\u001b[1;32m    309\u001b[0m     glc \u001b[39m=\u001b[39m sub_df[\u001b[39m'\u001b[39m\u001b[39mglc\u001b[39m\u001b[39m'\u001b[39m]\u001b[39m.\u001b[39mloc[ind]\n\u001b[1;32m    310\u001b[0m     ind_prev \u001b[39m=\u001b[39m ind\u001b[39m-\u001b[39m\u001b[39m1\u001b[39m\n\u001b[0;32m--> 311\u001b[0m     prec_reading_glc \u001b[39m=\u001b[39m sub_df\u001b[39m.\u001b[39;49mloc[ind_prev]\u001b[39m.\u001b[39mglc\n\u001b[1;32m    312\u001b[0m \u001b[39melse\u001b[39;00m:\n\u001b[1;32m    313\u001b[0m     glc \u001b[39m=\u001b[39m np\u001b[39m.\u001b[39mnan\n",
      "File \u001b[0;32m~/miniconda3/envs/ml_cgm_env_test/lib/python3.9/site-packages/pandas/core/indexing.py:931\u001b[0m, in \u001b[0;36m_LocationIndexer.__getitem__\u001b[0;34m(self, key)\u001b[0m\n\u001b[1;32m    928\u001b[0m axis \u001b[39m=\u001b[39m \u001b[39mself\u001b[39m\u001b[39m.\u001b[39maxis \u001b[39mor\u001b[39;00m \u001b[39m0\u001b[39m\n\u001b[1;32m    930\u001b[0m maybe_callable \u001b[39m=\u001b[39m com\u001b[39m.\u001b[39mapply_if_callable(key, \u001b[39mself\u001b[39m\u001b[39m.\u001b[39mobj)\n\u001b[0;32m--> 931\u001b[0m \u001b[39mreturn\u001b[39;00m \u001b[39mself\u001b[39;49m\u001b[39m.\u001b[39;49m_getitem_axis(maybe_callable, axis\u001b[39m=\u001b[39;49maxis)\n",
      "File \u001b[0;32m~/miniconda3/envs/ml_cgm_env_test/lib/python3.9/site-packages/pandas/core/indexing.py:1164\u001b[0m, in \u001b[0;36m_LocIndexer._getitem_axis\u001b[0;34m(self, key, axis)\u001b[0m\n\u001b[1;32m   1162\u001b[0m \u001b[39m# fall thru to straight lookup\u001b[39;00m\n\u001b[1;32m   1163\u001b[0m \u001b[39mself\u001b[39m\u001b[39m.\u001b[39m_validate_key(key, axis)\n\u001b[0;32m-> 1164\u001b[0m \u001b[39mreturn\u001b[39;00m \u001b[39mself\u001b[39;49m\u001b[39m.\u001b[39;49m_get_label(key, axis\u001b[39m=\u001b[39;49maxis)\n",
      "File \u001b[0;32m~/miniconda3/envs/ml_cgm_env_test/lib/python3.9/site-packages/pandas/core/indexing.py:1113\u001b[0m, in \u001b[0;36m_LocIndexer._get_label\u001b[0;34m(self, label, axis)\u001b[0m\n\u001b[1;32m   1111\u001b[0m \u001b[39mdef\u001b[39;00m \u001b[39m_get_label\u001b[39m(\u001b[39mself\u001b[39m, label, axis: \u001b[39mint\u001b[39m):\n\u001b[1;32m   1112\u001b[0m     \u001b[39m# GH#5667 this will fail if the label is not present in the axis.\u001b[39;00m\n\u001b[0;32m-> 1113\u001b[0m     \u001b[39mreturn\u001b[39;00m \u001b[39mself\u001b[39;49m\u001b[39m.\u001b[39;49mobj\u001b[39m.\u001b[39;49mxs(label, axis\u001b[39m=\u001b[39;49maxis)\n",
      "File \u001b[0;32m~/miniconda3/envs/ml_cgm_env_test/lib/python3.9/site-packages/pandas/core/generic.py:3776\u001b[0m, in \u001b[0;36mNDFrame.xs\u001b[0;34m(self, key, axis, level, drop_level)\u001b[0m\n\u001b[1;32m   3774\u001b[0m         \u001b[39mraise\u001b[39;00m \u001b[39mTypeError\u001b[39;00m(\u001b[39mf\u001b[39m\u001b[39m\"\u001b[39m\u001b[39mExpected label or tuple of labels, got \u001b[39m\u001b[39m{\u001b[39;00mkey\u001b[39m}\u001b[39;00m\u001b[39m\"\u001b[39m) \u001b[39mfrom\u001b[39;00m \u001b[39me\u001b[39;00m\n\u001b[1;32m   3775\u001b[0m \u001b[39melse\u001b[39;00m:\n\u001b[0;32m-> 3776\u001b[0m     loc \u001b[39m=\u001b[39m index\u001b[39m.\u001b[39;49mget_loc(key)\n\u001b[1;32m   3778\u001b[0m     \u001b[39mif\u001b[39;00m \u001b[39misinstance\u001b[39m(loc, np\u001b[39m.\u001b[39mndarray):\n\u001b[1;32m   3779\u001b[0m         \u001b[39mif\u001b[39;00m loc\u001b[39m.\u001b[39mdtype \u001b[39m==\u001b[39m np\u001b[39m.\u001b[39mbool_:\n",
      "File \u001b[0;32m~/miniconda3/envs/ml_cgm_env_test/lib/python3.9/site-packages/pandas/core/indexes/base.py:3363\u001b[0m, in \u001b[0;36mIndex.get_loc\u001b[0;34m(self, key, method, tolerance)\u001b[0m\n\u001b[1;32m   3361\u001b[0m         \u001b[39mreturn\u001b[39;00m \u001b[39mself\u001b[39m\u001b[39m.\u001b[39m_engine\u001b[39m.\u001b[39mget_loc(casted_key)\n\u001b[1;32m   3362\u001b[0m     \u001b[39mexcept\u001b[39;00m \u001b[39mKeyError\u001b[39;00m \u001b[39mas\u001b[39;00m err:\n\u001b[0;32m-> 3363\u001b[0m         \u001b[39mraise\u001b[39;00m \u001b[39mKeyError\u001b[39;00m(key) \u001b[39mfrom\u001b[39;00m \u001b[39merr\u001b[39;00m\n\u001b[1;32m   3365\u001b[0m \u001b[39mif\u001b[39;00m is_scalar(key) \u001b[39mand\u001b[39;00m isna(key) \u001b[39mand\u001b[39;00m \u001b[39mnot\u001b[39;00m \u001b[39mself\u001b[39m\u001b[39m.\u001b[39mhasnans:\n\u001b[1;32m   3366\u001b[0m     \u001b[39mraise\u001b[39;00m \u001b[39mKeyError\u001b[39;00m(key)\n",
      "\u001b[0;31mKeyError\u001b[0m: 223141"
     ]
    }
   ],
   "source": [
    "# Calculate start + end glucose for 101 diaries\n",
    "extod_101_diaries['start_glc'] = extod_101_diaries.apply(lambda row: preprocess_helper.calc_glc(\n",
    "    extod_101_cgm.loc[extod_101_cgm['ID']==row.ID], row.start_datetime, 30,\n",
    "    True), axis=1)\n",
    "\n",
    "# Calculate start + end glucose for edu diaries\n",
    "extod_edu_diaries['start_glc'] = extod_edu_diaries.apply(lambda row: preprocess_helper.calc_glc(\n",
    "    extod_edu_cgm.loc[extod_edu_cgm['ID']==row.ID], row.start_datetime, 30,\n",
    "    False), axis=1)\n"
   ]
  },
  {
   "cell_type": "code",
   "execution_count": null,
   "id": "8b29cc62-c7dc-4773-9b73-97906929e796",
   "metadata": {
    "tags": []
   },
   "outputs": [],
   "source": [
    "# Drop scan_glc column and null values\n",
    "extod_101_cgm = extod_101_cgm.drop(columns='scan_glc').dropna()"
   ]
  },
  {
   "cell_type": "markdown",
   "id": "8f51b8c4-662e-440d-bd98-aec168a8ff93",
   "metadata": {},
   "source": [
    "## 3.3. Divide CGM data into bouts"
   ]
  },
  {
   "cell_type": "code",
   "execution_count": null,
   "id": "48019c7b-82c1-4b08-8d1b-791ce26f1274",
   "metadata": {
    "scrolled": true,
    "tags": []
   },
   "outputs": [],
   "source": [
    "# Create unique id for each bout\n",
    "extod_101_diaries = preprocess_helper.create_bout_id(extod_101_diaries)\n",
    "extod_edu_diaries = preprocess_helper.create_bout_id(extod_edu_diaries)"
   ]
  },
  {
   "cell_type": "code",
   "execution_count": null,
   "id": "d2287755-adbd-4cc2-8be3-6ee674e78f48",
   "metadata": {},
   "outputs": [
    {
     "data": {
      "text/plain": [
       "688"
      ]
     },
     "execution_count": 21,
     "metadata": {},
     "output_type": "execute_result"
    }
   ],
   "source": [
    "extod_101_diaries.shape[0]"
   ]
  },
  {
   "cell_type": "code",
   "execution_count": null,
   "id": "74f94f32-4a5f-4b59-b41e-0d64b24c928e",
   "metadata": {},
   "outputs": [
    {
     "data": {
      "text/plain": [
       "804"
      ]
     },
     "execution_count": 22,
     "metadata": {},
     "output_type": "execute_result"
    }
   ],
   "source": [
    "extod_edu_diaries.shape[0]"
   ]
  },
  {
   "cell_type": "code",
   "execution_count": null,
   "id": "bd607de4-fe72-48f2-b82b-75868d5417ad",
   "metadata": {},
   "outputs": [],
   "source": [
    "# Combine data from both studies\n",
    "diaries = pd.concat([extod_101_diaries, extod_edu_diaries], axis=0)"
   ]
  },
  {
   "cell_type": "markdown",
   "id": "3b959ea0-bdb5-4d16-b3e6-ea6cf7f68e7d",
   "metadata": {
    "tags": []
   },
   "source": [
    "#### During"
   ]
  },
  {
   "cell_type": "code",
   "execution_count": null,
   "id": "49bdd457-4130-41f3-be90-a893bfe11a64",
   "metadata": {
    "scrolled": true,
    "tags": []
   },
   "outputs": [],
   "source": [
    "# Set up during CGM dataframe for each study\n",
    "extod_101_during, extod_101_during_series, _ = preprocess_helper.set_up_dataframes(extod_101_cgm, extod_101_diaries, 'during',\n",
    "                                     15)\n",
    "extod_101_during.reset_index(drop=True, inplace=True)\n",
    "extod_edu_during, extod_edu_during_series, _ = preprocess_helper.set_up_dataframes(extod_edu_cgm, extod_edu_diaries, 'during',\n",
    "                                     5)\n",
    "extod_edu_during.reset_index(drop=True, inplace=True)"
   ]
  },
  {
   "cell_type": "markdown",
   "id": "740ad22b-df19-45ea-ae89-869b35a30ce1",
   "metadata": {
    "tags": []
   },
   "source": [
    "### 3.5.1. Create the dataframes for predicting during exercise"
   ]
  },
  {
   "cell_type": "markdown",
   "id": "ffb0851a-d560-4241-823b-7d13125b959a",
   "metadata": {},
   "source": [
    "#### 3.4.1.1. Extract glycemic metrics"
   ]
  },
  {
   "cell_type": "markdown",
   "id": "f7d8d65f-18b3-4416-8d16-e9cfaed991dd",
   "metadata": {},
   "source": [
    "before_cgm = pd.concat([extod_101_before, extod_edu_before]).reset_index(drop=True)"
   ]
  },
  {
   "cell_type": "markdown",
   "id": "281e71a4-504c-4cb1-96f5-574fd5be7f8a",
   "metadata": {},
   "source": [
    "#### 3.4.2.1. Extract glycemic metrics (during)"
   ]
  },
  {
   "cell_type": "code",
   "execution_count": null,
   "id": "e0e6748d-7bdb-444e-a18d-29fa18021b5f",
   "metadata": {
    "tags": []
   },
   "outputs": [],
   "source": [
    "# Calculate glycemic metrics for extod 101 datasets\n",
    "glyc_metrics_101_during = cgm.all_metrics(extod_101_during, ID='bout_id', interval_size=15,\n",
    "                  exercise_thresholds=True)\n",
    "# Calculate glycemic metrics for extod education datasets\n",
    "glyc_metrics_edu_during = cgm.all_metrics(extod_edu_during, ID='bout_id', interval_size=5,\n",
    "                  exercise_thresholds=True)\n",
    "# Concat the two\n",
    "X_during_glyc_metrics = pd.concat([glyc_metrics_101_during,\n",
    "                                   glyc_metrics_edu_during]).rename(columns={'ID':'bout_id'})\n",
    "# Label columns with 'during'\n",
    "X_during_glyc_metrics.columns = ['during_'+i  if i not in ['bout_id'] else i for i in X_during_glyc_metrics.columns]"
   ]
  },
  {
   "cell_type": "code",
   "execution_count": null,
   "id": "c1863e65-6e83-4a15-b991-d06f8cb1a73f",
   "metadata": {},
   "outputs": [
    {
     "data": {
      "text/html": [
       "<div>\n",
       "<style scoped>\n",
       "    .dataframe tbody tr th:only-of-type {\n",
       "        vertical-align: middle;\n",
       "    }\n",
       "\n",
       "    .dataframe tbody tr th {\n",
       "        vertical-align: top;\n",
       "    }\n",
       "\n",
       "    .dataframe thead th {\n",
       "        text-align: right;\n",
       "    }\n",
       "</style>\n",
       "<table border=\"1\" class=\"dataframe\">\n",
       "  <thead>\n",
       "    <tr style=\"text-align: right;\">\n",
       "      <th></th>\n",
       "      <th>bout_id</th>\n",
       "      <th>during_TIR_lv2_hypo</th>\n",
       "      <th>during_TIR_lv1_hypo</th>\n",
       "      <th>during_TIR_hypo</th>\n",
       "      <th>during_TIR_norm</th>\n",
       "      <th>during_TIR_hyper</th>\n",
       "      <th>during_TIR_lv1_hyper</th>\n",
       "      <th>during_TIR_lv2_hyper</th>\n",
       "      <th>during_TIR_hypo_exercise</th>\n",
       "      <th>during_TIR_normal_exercise</th>\n",
       "      <th>during_TIR_hyper_exercise</th>\n",
       "      <th>during_number_hypos</th>\n",
       "      <th>during_avg_length_of_hypo</th>\n",
       "      <th>during_total_time_in_hypos</th>\n",
       "      <th>during_number_lv1_hypos</th>\n",
       "      <th>during_number_lv2_hypos</th>\n",
       "      <th>during_number_hypos_below_5</th>\n",
       "      <th>during_avg_length_hypo_below_5</th>\n",
       "      <th>during_total_time_in_hypos_below_5</th>\n",
       "      <th>during_sd</th>\n",
       "      <th>during_cv</th>\n",
       "      <th>during_minimum_glucose</th>\n",
       "      <th>during_maximum_glucose</th>\n",
       "      <th>during_average_glucose</th>\n",
       "      <th>during_mage_mean</th>\n",
       "      <th>during_ea1c</th>\n",
       "      <th>during_percent_missing</th>\n",
       "    </tr>\n",
       "  </thead>\n",
       "  <tbody>\n",
       "    <tr>\n",
       "      <th>0</th>\n",
       "      <td>3032_562</td>\n",
       "      <td>0.0</td>\n",
       "      <td>0.0</td>\n",
       "      <td>0.0</td>\n",
       "      <td>50.0</td>\n",
       "      <td>50.0</td>\n",
       "      <td>50.0</td>\n",
       "      <td>0.0</td>\n",
       "      <td>0.0</td>\n",
       "      <td>100.0</td>\n",
       "      <td>0.0</td>\n",
       "      <td>0</td>\n",
       "      <td>0.0</td>\n",
       "      <td>0.0</td>\n",
       "      <td>0</td>\n",
       "      <td>0</td>\n",
       "      <td>0</td>\n",
       "      <td>0.0</td>\n",
       "      <td>0.0</td>\n",
       "      <td>2.333452</td>\n",
       "      <td>26.668027</td>\n",
       "      <td>7.1</td>\n",
       "      <td>10.4</td>\n",
       "      <td>8.750000</td>\n",
       "      <td>3.3</td>\n",
       "      <td>7.132075</td>\n",
       "      <td>0.0</td>\n",
       "    </tr>\n",
       "    <tr>\n",
       "      <th>1</th>\n",
       "      <td>3030_505</td>\n",
       "      <td>0.0</td>\n",
       "      <td>0.0</td>\n",
       "      <td>0.0</td>\n",
       "      <td>0.0</td>\n",
       "      <td>100.0</td>\n",
       "      <td>25.0</td>\n",
       "      <td>75.0</td>\n",
       "      <td>0.0</td>\n",
       "      <td>0.0</td>\n",
       "      <td>0.0</td>\n",
       "      <td>0</td>\n",
       "      <td>0.0</td>\n",
       "      <td>0.0</td>\n",
       "      <td>0</td>\n",
       "      <td>0</td>\n",
       "      <td>0</td>\n",
       "      <td>0.0</td>\n",
       "      <td>0.0</td>\n",
       "      <td>0.509902</td>\n",
       "      <td>3.565748</td>\n",
       "      <td>13.6</td>\n",
       "      <td>14.8</td>\n",
       "      <td>14.300000</td>\n",
       "      <td>1.2</td>\n",
       "      <td>10.622642</td>\n",
       "      <td>0.0</td>\n",
       "    </tr>\n",
       "    <tr>\n",
       "      <th>2</th>\n",
       "      <td>3004_82</td>\n",
       "      <td>0.0</td>\n",
       "      <td>0.0</td>\n",
       "      <td>0.0</td>\n",
       "      <td>0.0</td>\n",
       "      <td>100.0</td>\n",
       "      <td>0.0</td>\n",
       "      <td>100.0</td>\n",
       "      <td>0.0</td>\n",
       "      <td>0.0</td>\n",
       "      <td>100.0</td>\n",
       "      <td>0</td>\n",
       "      <td>0.0</td>\n",
       "      <td>0.0</td>\n",
       "      <td>0</td>\n",
       "      <td>0</td>\n",
       "      <td>0</td>\n",
       "      <td>0.0</td>\n",
       "      <td>0.0</td>\n",
       "      <td>NaN</td>\n",
       "      <td>NaN</td>\n",
       "      <td>16.4</td>\n",
       "      <td>16.4</td>\n",
       "      <td>16.400000</td>\n",
       "      <td>0.0</td>\n",
       "      <td>11.943396</td>\n",
       "      <td>0.0</td>\n",
       "    </tr>\n",
       "    <tr>\n",
       "      <th>3</th>\n",
       "      <td>3002_26</td>\n",
       "      <td>0.0</td>\n",
       "      <td>0.0</td>\n",
       "      <td>0.0</td>\n",
       "      <td>0.0</td>\n",
       "      <td>100.0</td>\n",
       "      <td>0.0</td>\n",
       "      <td>100.0</td>\n",
       "      <td>0.0</td>\n",
       "      <td>0.0</td>\n",
       "      <td>100.0</td>\n",
       "      <td>0</td>\n",
       "      <td>0.0</td>\n",
       "      <td>0.0</td>\n",
       "      <td>0</td>\n",
       "      <td>0</td>\n",
       "      <td>0</td>\n",
       "      <td>0.0</td>\n",
       "      <td>0.0</td>\n",
       "      <td>0.763763</td>\n",
       "      <td>3.301568</td>\n",
       "      <td>22.3</td>\n",
       "      <td>23.8</td>\n",
       "      <td>23.133333</td>\n",
       "      <td>1.5</td>\n",
       "      <td>16.178197</td>\n",
       "      <td>0.0</td>\n",
       "    </tr>\n",
       "    <tr>\n",
       "      <th>4</th>\n",
       "      <td>3026_420</td>\n",
       "      <td>0.0</td>\n",
       "      <td>0.0</td>\n",
       "      <td>0.0</td>\n",
       "      <td>0.0</td>\n",
       "      <td>100.0</td>\n",
       "      <td>0.0</td>\n",
       "      <td>100.0</td>\n",
       "      <td>0.0</td>\n",
       "      <td>0.0</td>\n",
       "      <td>100.0</td>\n",
       "      <td>0</td>\n",
       "      <td>0.0</td>\n",
       "      <td>0.0</td>\n",
       "      <td>0</td>\n",
       "      <td>0</td>\n",
       "      <td>0</td>\n",
       "      <td>0.0</td>\n",
       "      <td>0.0</td>\n",
       "      <td>1.343503</td>\n",
       "      <td>6.292754</td>\n",
       "      <td>20.4</td>\n",
       "      <td>22.3</td>\n",
       "      <td>21.350000</td>\n",
       "      <td>1.9</td>\n",
       "      <td>15.056604</td>\n",
       "      <td>0.0</td>\n",
       "    </tr>\n",
       "  </tbody>\n",
       "</table>\n",
       "</div>"
      ],
      "text/plain": [
       "    bout_id  during_TIR_lv2_hypo  during_TIR_lv1_hypo  during_TIR_hypo  \\\n",
       "0  3032_562                  0.0                  0.0              0.0   \n",
       "1  3030_505                  0.0                  0.0              0.0   \n",
       "2   3004_82                  0.0                  0.0              0.0   \n",
       "3   3002_26                  0.0                  0.0              0.0   \n",
       "4  3026_420                  0.0                  0.0              0.0   \n",
       "\n",
       "   during_TIR_norm  during_TIR_hyper  during_TIR_lv1_hyper  \\\n",
       "0             50.0              50.0                  50.0   \n",
       "1              0.0             100.0                  25.0   \n",
       "2              0.0             100.0                   0.0   \n",
       "3              0.0             100.0                   0.0   \n",
       "4              0.0             100.0                   0.0   \n",
       "\n",
       "   during_TIR_lv2_hyper  during_TIR_hypo_exercise  during_TIR_normal_exercise  \\\n",
       "0                   0.0                       0.0                       100.0   \n",
       "1                  75.0                       0.0                         0.0   \n",
       "2                 100.0                       0.0                         0.0   \n",
       "3                 100.0                       0.0                         0.0   \n",
       "4                 100.0                       0.0                         0.0   \n",
       "\n",
       "   during_TIR_hyper_exercise  during_number_hypos  during_avg_length_of_hypo  \\\n",
       "0                        0.0                    0                        0.0   \n",
       "1                        0.0                    0                        0.0   \n",
       "2                      100.0                    0                        0.0   \n",
       "3                      100.0                    0                        0.0   \n",
       "4                      100.0                    0                        0.0   \n",
       "\n",
       "   during_total_time_in_hypos  during_number_lv1_hypos  \\\n",
       "0                         0.0                        0   \n",
       "1                         0.0                        0   \n",
       "2                         0.0                        0   \n",
       "3                         0.0                        0   \n",
       "4                         0.0                        0   \n",
       "\n",
       "   during_number_lv2_hypos  during_number_hypos_below_5  \\\n",
       "0                        0                            0   \n",
       "1                        0                            0   \n",
       "2                        0                            0   \n",
       "3                        0                            0   \n",
       "4                        0                            0   \n",
       "\n",
       "   during_avg_length_hypo_below_5  during_total_time_in_hypos_below_5  \\\n",
       "0                             0.0                                 0.0   \n",
       "1                             0.0                                 0.0   \n",
       "2                             0.0                                 0.0   \n",
       "3                             0.0                                 0.0   \n",
       "4                             0.0                                 0.0   \n",
       "\n",
       "   during_sd  during_cv  during_minimum_glucose  during_maximum_glucose  \\\n",
       "0   2.333452  26.668027                     7.1                    10.4   \n",
       "1   0.509902   3.565748                    13.6                    14.8   \n",
       "2        NaN        NaN                    16.4                    16.4   \n",
       "3   0.763763   3.301568                    22.3                    23.8   \n",
       "4   1.343503   6.292754                    20.4                    22.3   \n",
       "\n",
       "   during_average_glucose  during_mage_mean  during_ea1c  \\\n",
       "0                8.750000               3.3     7.132075   \n",
       "1               14.300000               1.2    10.622642   \n",
       "2               16.400000               0.0    11.943396   \n",
       "3               23.133333               1.5    16.178197   \n",
       "4               21.350000               1.9    15.056604   \n",
       "\n",
       "   during_percent_missing  \n",
       "0                     0.0  \n",
       "1                     0.0  \n",
       "2                     0.0  \n",
       "3                     0.0  \n",
       "4                     0.0  "
      ]
     },
     "execution_count": 26,
     "metadata": {},
     "output_type": "execute_result"
    }
   ],
   "source": [
    "X_during_glyc_metrics.head()"
   ]
  },
  {
   "cell_type": "code",
   "execution_count": null,
   "id": "bc87774c-6a78-476b-9642-fb3ffabedd3c",
   "metadata": {},
   "outputs": [],
   "source": []
  },
  {
   "cell_type": "code",
   "execution_count": null,
   "id": "f32f1175-ee21-4cf2-b56d-1311fa6ab83e",
   "metadata": {},
   "outputs": [
    {
     "data": {
      "text/plain": [
       "bout_id                               452\n",
       "during_TIR_lv2_hypo                   452\n",
       "during_TIR_lv1_hypo                   452\n",
       "during_TIR_hypo                       452\n",
       "during_TIR_norm                       452\n",
       "during_TIR_hyper                      452\n",
       "during_TIR_lv1_hyper                  452\n",
       "during_TIR_lv2_hyper                  452\n",
       "during_TIR_hypo_exercise              452\n",
       "during_TIR_normal_exercise            452\n",
       "during_TIR_hyper_exercise             452\n",
       "during_number_hypos                   452\n",
       "during_avg_length_of_hypo             452\n",
       "during_total_time_in_hypos            452\n",
       "during_number_lv1_hypos               452\n",
       "during_number_lv2_hypos               452\n",
       "during_number_hypos_below_5           452\n",
       "during_avg_length_hypo_below_5        452\n",
       "during_total_time_in_hypos_below_5    452\n",
       "during_sd                             425\n",
       "during_cv                             425\n",
       "during_minimum_glucose                452\n",
       "during_maximum_glucose                452\n",
       "during_average_glucose                452\n",
       "during_mage_mean                      452\n",
       "during_ea1c                           452\n",
       "during_percent_missing                452\n",
       "dtype: int64"
      ]
     },
     "execution_count": 42,
     "metadata": {},
     "output_type": "execute_result"
    }
   ],
   "source": [
    "X_during_glyc_metrics[X_during_glyc_metrics.during_TIR_hyper>0].count()"
   ]
  },
  {
   "cell_type": "markdown",
   "id": "0ce8f141-8fbb-4daf-b2e2-f8d6498757a6",
   "metadata": {
    "tags": []
   },
   "source": [
    "#### 3.4.2.2. Extract target features (y) for during exercise"
   ]
  },
  {
   "cell_type": "code",
   "execution_count": null,
   "id": "795f2c1e-e392-4e34-93df-e8c998b54de2",
   "metadata": {},
   "outputs": [],
   "source": [
    "# Select the target features (y)\n",
    "y_101_during = glyc_metrics_101_during.loc[:,['ID', 'TIR_hypo_exercise', 'TIR_hyper_exercise'\n",
    "                                              ]]\n",
    "y_101_during.columns=['bout_id', 'y_hypo', 'y_hyper']\n",
    "y_101_during['y_hypo'] = y_101_during['y_hypo']>0\n",
    "y_101_during['y_hyper'] = y_101_during['y_hyper']>0\n",
    "\n",
    "y_edu_during = glyc_metrics_edu_during.loc[:,['ID', 'TIR_hypo_exercise',  'TIR_hyper_exercise'\n",
    "                                              ]]\n",
    "y_edu_during.columns=['bout_id', 'y_hypo', 'y_hyper']\n",
    "y_edu_during['y_hypo'] = y_edu_during['y_hypo']>0\n",
    "y_edu_during['y_hyper'] = y_edu_during['y_hyper']>0\n",
    "\n",
    "\n",
    "# Concat the two\n",
    "y_during = pd.concat([y_101_during, y_edu_during])\n",
    "# Rename y columns\n",
    "y_during.columns = ['bout_id', 'y_hypo', 'y_hyper']"
   ]
  },
  {
   "cell_type": "code",
   "execution_count": null,
   "id": "cfdc378b-a935-4fde-8853-4fa23802aa43",
   "metadata": {},
   "outputs": [],
   "source": [
    "during_merged = X_during_glyc_metrics.merge(y_during, on='bout_id')"
   ]
  },
  {
   "cell_type": "markdown",
   "id": "631067ee-4075-4411-a950-825cf543ffcb",
   "metadata": {},
   "source": [
    "## 3.5. Combine dataframes for the machine learning tasks"
   ]
  },
  {
   "cell_type": "code",
   "execution_count": null,
   "id": "60399777-f26f-48d7-8f20-dcb91e354c07",
   "metadata": {},
   "outputs": [],
   "source": [
    "# Set directory for saving files\n",
    "df_directory = '../../Data/tidy_data/'"
   ]
  },
  {
   "cell_type": "markdown",
   "id": "dd61305e-8f95-4f49-9db0-e4a6b125f868",
   "metadata": {
    "tags": []
   },
   "source": [
    "### During"
   ]
  },
  {
   "cell_type": "code",
   "execution_count": null,
   "id": "ea532bbd-2b06-4201-a89a-7102ea6d07ae",
   "metadata": {},
   "outputs": [],
   "source": [
    "# Frames to be merged, glyc metrics for 4hrs before, exercise diaries, TIR during\n",
    "frames = [diaries, y_during]\n",
    "# Merge 'em on bout_id\n",
    "df_glyc_during = reduce(lambda left, right: pd.merge(left, right,\n",
    "                                                      on=['bout_id']), frames)\n",
    "# Recreate ID from bout_id\n",
    "df_glyc_during['ID'] = df_glyc_during['bout_id'].apply(lambda x: int(x[:4]))\n",
    "# Merge with demographics and lab data on ID\n",
    "df_glyc_during = df_glyc_during.merge(demo_lab, on='ID')"
   ]
  },
  {
   "cell_type": "code",
   "execution_count": null,
   "id": "a047b24b-51ee-4261-bac6-4e29b4ef7fba",
   "metadata": {},
   "outputs": [],
   "source": [
    "all_drop = ['start_datetime', 'finish_datetime', 'type_of_exercise',\n",
    "            'starting_glucose', 'finishing_glucose', 'insulin_administration',\n",
    "            'urine_cpep', 'urine_creat', 'chol', 'h_index', 'hdl', 'ldl',\n",
    "            'nhdl', 'trig', 'bout_id']\n",
    "df_glyc_during.drop(columns=all_drop,inplace=True)"
   ]
  },
  {
   "cell_type": "markdown",
   "id": "21260fba-0bcc-4d74-b004-d380e84b16e2",
   "metadata": {},
   "source": [
    "# Changing the time in ranges to binary\n",
    "for i in during_frames + after_frames:\n",
    "    i['y_hypo'] = i['y_hypo'] > 0\n",
    "    i['y_hyper'] = i['y_hyper'] > 0\n",
    "    # Add a column for stratification\n",
    "    i['stratify'] = i['ID'].astype(str) + '_' + i['y_hypo'].astype(str)"
   ]
  },
  {
   "cell_type": "code",
   "execution_count": null,
   "id": "7ecde825-67cf-4a6f-af37-b148a7cf5ac8",
   "metadata": {
    "tags": []
   },
   "outputs": [
    {
     "data": {
      "text/html": [
       "<div>\n",
       "<style scoped>\n",
       "    .dataframe tbody tr th:only-of-type {\n",
       "        vertical-align: middle;\n",
       "    }\n",
       "\n",
       "    .dataframe tbody tr th {\n",
       "        vertical-align: top;\n",
       "    }\n",
       "\n",
       "    .dataframe thead th {\n",
       "        text-align: right;\n",
       "    }\n",
       "</style>\n",
       "<table border=\"1\" class=\"dataframe\">\n",
       "  <thead>\n",
       "    <tr style=\"text-align: right;\">\n",
       "      <th></th>\n",
       "      <th>ID</th>\n",
       "      <th>intensity</th>\n",
       "      <th>month</th>\n",
       "      <th>day</th>\n",
       "      <th>day_of_week</th>\n",
       "      <th>time_of_day</th>\n",
       "      <th>duration</th>\n",
       "      <th>form_of_exercise</th>\n",
       "      <th>start_glc</th>\n",
       "      <th>y_hypo</th>\n",
       "      <th>y_hyper</th>\n",
       "      <th>age</th>\n",
       "      <th>sex</th>\n",
       "      <th>years_since_diagnosis</th>\n",
       "      <th>bmi</th>\n",
       "      <th>hba1c</th>\n",
       "      <th>cpep</th>\n",
       "    </tr>\n",
       "  </thead>\n",
       "  <tbody>\n",
       "    <tr>\n",
       "      <th>0</th>\n",
       "      <td>3001</td>\n",
       "      <td>15.0</td>\n",
       "      <td>5</td>\n",
       "      <td>19</td>\n",
       "      <td>5</td>\n",
       "      <td>morning</td>\n",
       "      <td>71.0</td>\n",
       "      <td>aer</td>\n",
       "      <td>15.3</td>\n",
       "      <td>False</td>\n",
       "      <td>True</td>\n",
       "      <td>41.615332</td>\n",
       "      <td>female</td>\n",
       "      <td>10.064339</td>\n",
       "      <td>23.112472</td>\n",
       "      <td>73.0</td>\n",
       "      <td>3.0</td>\n",
       "    </tr>\n",
       "    <tr>\n",
       "      <th>1</th>\n",
       "      <td>3001</td>\n",
       "      <td>15.0</td>\n",
       "      <td>5</td>\n",
       "      <td>29</td>\n",
       "      <td>1</td>\n",
       "      <td>morning</td>\n",
       "      <td>26.0</td>\n",
       "      <td>aer</td>\n",
       "      <td>12.7</td>\n",
       "      <td>False</td>\n",
       "      <td>False</td>\n",
       "      <td>41.615332</td>\n",
       "      <td>female</td>\n",
       "      <td>10.064339</td>\n",
       "      <td>23.112472</td>\n",
       "      <td>73.0</td>\n",
       "      <td>3.0</td>\n",
       "    </tr>\n",
       "    <tr>\n",
       "      <th>2</th>\n",
       "      <td>3001</td>\n",
       "      <td>NaN</td>\n",
       "      <td>6</td>\n",
       "      <td>3</td>\n",
       "      <td>6</td>\n",
       "      <td>evening</td>\n",
       "      <td>76.0</td>\n",
       "      <td>aer</td>\n",
       "      <td>10.4</td>\n",
       "      <td>False</td>\n",
       "      <td>False</td>\n",
       "      <td>41.615332</td>\n",
       "      <td>female</td>\n",
       "      <td>10.064339</td>\n",
       "      <td>23.112472</td>\n",
       "      <td>73.0</td>\n",
       "      <td>3.0</td>\n",
       "    </tr>\n",
       "    <tr>\n",
       "      <th>3</th>\n",
       "      <td>3001</td>\n",
       "      <td>NaN</td>\n",
       "      <td>6</td>\n",
       "      <td>11</td>\n",
       "      <td>0</td>\n",
       "      <td>afternoon</td>\n",
       "      <td>13.0</td>\n",
       "      <td>aer</td>\n",
       "      <td>22.0</td>\n",
       "      <td>False</td>\n",
       "      <td>True</td>\n",
       "      <td>41.615332</td>\n",
       "      <td>female</td>\n",
       "      <td>10.064339</td>\n",
       "      <td>23.112472</td>\n",
       "      <td>73.0</td>\n",
       "      <td>3.0</td>\n",
       "    </tr>\n",
       "    <tr>\n",
       "      <th>4</th>\n",
       "      <td>3001</td>\n",
       "      <td>15.0</td>\n",
       "      <td>6</td>\n",
       "      <td>13</td>\n",
       "      <td>2</td>\n",
       "      <td>afternoon</td>\n",
       "      <td>55.0</td>\n",
       "      <td>aer</td>\n",
       "      <td>21.8</td>\n",
       "      <td>False</td>\n",
       "      <td>True</td>\n",
       "      <td>41.615332</td>\n",
       "      <td>female</td>\n",
       "      <td>10.064339</td>\n",
       "      <td>23.112472</td>\n",
       "      <td>73.0</td>\n",
       "      <td>3.0</td>\n",
       "    </tr>\n",
       "  </tbody>\n",
       "</table>\n",
       "</div>"
      ],
      "text/plain": [
       "     ID  intensity  month  day  day_of_week time_of_day  duration  \\\n",
       "0  3001       15.0      5   19            5     morning      71.0   \n",
       "1  3001       15.0      5   29            1     morning      26.0   \n",
       "2  3001        NaN      6    3            6     evening      76.0   \n",
       "3  3001        NaN      6   11            0   afternoon      13.0   \n",
       "4  3001       15.0      6   13            2   afternoon      55.0   \n",
       "\n",
       "  form_of_exercise  start_glc  y_hypo  y_hyper        age     sex  \\\n",
       "0              aer       15.3   False     True  41.615332  female   \n",
       "1              aer       12.7   False    False  41.615332  female   \n",
       "2              aer       10.4   False    False  41.615332  female   \n",
       "3              aer       22.0   False     True  41.615332  female   \n",
       "4              aer       21.8   False     True  41.615332  female   \n",
       "\n",
       "   years_since_diagnosis        bmi  hba1c  cpep  \n",
       "0              10.064339  23.112472   73.0   3.0  \n",
       "1              10.064339  23.112472   73.0   3.0  \n",
       "2              10.064339  23.112472   73.0   3.0  \n",
       "3              10.064339  23.112472   73.0   3.0  \n",
       "4              10.064339  23.112472   73.0   3.0  "
      ]
     },
     "execution_count": 31,
     "metadata": {},
     "output_type": "execute_result"
    }
   ],
   "source": [
    "# Glycemic metrics only\n",
    "df_glyc_during.head()"
   ]
  },
  {
   "cell_type": "markdown",
   "id": "ae058ffc-114e-4684-b2c1-bbb273b61741",
   "metadata": {},
   "source": [
    "## 3.6. Save to csv"
   ]
  },
  {
   "cell_type": "code",
   "execution_count": null,
   "id": "833937ed-530c-4189-8efa-0c97cb0a82b2",
   "metadata": {},
   "outputs": [],
   "source": [
    "# During\n",
    "df_glyc_during.to_csv(df_directory+'during_simple_only.csv', index=False)"
   ]
  },
  {
   "cell_type": "code",
   "execution_count": null,
   "id": "bb8e0010-442e-4c13-9fe8-5a5db8f84699",
   "metadata": {},
   "outputs": [],
   "source": []
  }
 ],
 "metadata": {
  "kernelspec": {
   "display_name": "ml_cgm_env_test",
   "language": "python",
   "name": "python3"
  },
  "language_info": {
   "codemirror_mode": {
    "name": "ipython",
    "version": 3
   },
   "file_extension": ".py",
   "mimetype": "text/x-python",
   "name": "python",
   "nbconvert_exporter": "python",
   "pygments_lexer": "ipython3",
   "version": "3.9.7"
  },
  "vscode": {
   "interpreter": {
    "hash": "11957cbc5b69a14c5eed2137b8c383ab027096f0c9ca0d6fd5201f30e0447e4b"
   }
  }
 },
 "nbformat": 4,
 "nbformat_minor": 5
}
