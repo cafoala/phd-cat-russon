{
 "cells": [
  {
   "cell_type": "markdown",
   "id": "4a8168ab-9653-4295-9e36-08a9846ca4d7",
   "metadata": {},
   "source": [
    "# Introduction"
   ]
  },
  {
   "cell_type": "markdown",
   "id": "579ada09-dbc3-4225-a2ca-204a25a93a10",
   "metadata": {},
   "source": [
    "The motivation behind this chapter was..."
   ]
  }
 ],
 "metadata": {
  "kernelspec": {
   "display_name": "Python 3 (ipykernel)",
   "language": "python",
   "name": "python3"
  },
  "language_info": {
   "codemirror_mode": {
    "name": "ipython",
    "version": 3
   },
   "file_extension": ".py",
   "mimetype": "text/x-python",
   "name": "python",
   "nbconvert_exporter": "python",
   "pygments_lexer": "ipython3",
   "version": "3.7.10"
  }
 },
 "nbformat": 4,
 "nbformat_minor": 5
}